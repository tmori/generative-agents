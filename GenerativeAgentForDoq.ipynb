{
  "cells": [
    {
      "attachments": {},
      "cell_type": "markdown",
      "metadata": {
        "id": "hfEjmYHE4SoV"
      },
      "source": [
        "# Generative agents for document query\n",
        "\n",
        "Repository: https://github.com/tmori/generative-agents"
      ]
    },
    {
      "attachments": {},
      "cell_type": "markdown",
      "metadata": {
        "id": "bPd1FZ-p1FSp"
      },
      "source": [
        "## Create & Install Environments\n",
        "Please set your open api key on OPEN_API_KEY"
      ]
    },
    {
      "cell_type": "code",
      "execution_count": null,
      "metadata": {
        "id": "i3qqeb9Z5RXw"
      },
      "outputs": [],
      "source": [
        "%env OPENAI_API_KEY="
      ]
    },
    {
      "cell_type": "code",
      "execution_count": null,
      "metadata": {
        "id": "1Ng_Oz3ezRMk"
      },
      "outputs": [],
      "source": [
        "%pwd"
      ]
    },
    {
      "cell_type": "code",
      "execution_count": null,
      "metadata": {
        "id": "5R-lpgdyzbIa"
      },
      "outputs": [],
      "source": [
        "%mkdir work"
      ]
    },
    {
      "cell_type": "code",
      "execution_count": null,
      "metadata": {
        "id": "2_0h9xom6BzB"
      },
      "outputs": [],
      "source": [
        "%cd work"
      ]
    },
    {
      "cell_type": "code",
      "execution_count": null,
      "metadata": {
        "id": "CLT3IVh1zeRM"
      },
      "outputs": [],
      "source": [
        "%mkdir documents\n",
        "%mkdir documents/docs\n",
        "%mkdir documents/dbs\n",
        "!git clone https://github.com/tmori/generative-agents.git"
      ]
    },
    {
      "cell_type": "code",
      "execution_count": null,
      "metadata": {
        "id": "9NCSq6Hk1T-o"
      },
      "outputs": [],
      "source": [
        "!pip3 install openai\n",
        "!pip3 install chromadb\n",
        "!pip3 install tiktoken\n",
        "!pip3 install pypdf\n",
        "!pip3 install langchain\n",
        "!pip3 install unstructured\n",
        "!pip3 install tabulate\n",
        "!pip3 install scikit-learn"
      ]
    },
    {
      "attachments": {},
      "cell_type": "markdown",
      "metadata": {
        "id": "s7BkFTNa0hQq"
      },
      "source": [
        "## Upload PDF Files\n",
        "\n",
        "Please upload pdf documents on `work/documents/docs`.\n",
        "\n",
        "Example:\n",
        "\n",
        "![image.png](data:image/png;base64,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)"
      ]
    },
    {
      "cell_type": "code",
      "execution_count": null,
      "metadata": {
        "id": "CGGx7JyvA3JO"
      },
      "outputs": [],
      "source": [
        "%cd /content/work/documents/docs"
      ]
    },
    {
      "cell_type": "code",
      "execution_count": null,
      "metadata": {
        "id": "PnGEgIMZAn4u"
      },
      "outputs": [],
      "source": [
        "from google.colab import files\n",
        "\n",
        "uploaded_files = files.upload()"
      ]
    },
    {
      "attachments": {},
      "cell_type": "markdown",
      "metadata": {
        "id": "g8oekZmr1pYD"
      },
      "source": [
        "## Create Vector DBs"
      ]
    },
    {
      "cell_type": "code",
      "execution_count": null,
      "metadata": {
        "id": "pl2NyFwzCJRh"
      },
      "outputs": [],
      "source": [
        "%cd /content/work"
      ]
    },
    {
      "cell_type": "code",
      "execution_count": null,
      "metadata": {
        "id": "JVqyRrEN2Iw5"
      },
      "outputs": [],
      "source": [
        "!bash generative-agents/tools/create_doclist.bash"
      ]
    },
    {
      "attachments": {},
      "cell_type": "markdown",
      "metadata": {
        "id": "_2Uv_u6g3G7i"
      },
      "source": [
        "## Ask Question"
      ]
    },
    {
      "cell_type": "code",
      "execution_count": null,
      "metadata": {
        "id": "AeHFL9BM63-f"
      },
      "outputs": [],
      "source": [
        "%cd /content/work/generative-agents"
      ]
    },
    {
      "cell_type": "code",
      "execution_count": null,
      "metadata": {
        "id": "4dGf_DTv7EKW"
      },
      "outputs": [],
      "source": [
        "%env QUESTION=\"I'm trying to train a robot using reinforcement learning on the Windows version of Hakoniwa (a simulator for robotics) but the robot doesn't move even after starting the simulation. Can you please provide me with the possible causes, such as steps, firewall, settings, or any other considerations?\"\n"
      ]
    },
    {
      "cell_type": "code",
      "execution_count": null,
      "metadata": {
        "id": "AYVEwwfK3KbX"
      },
      "outputs": [],
      "source": [
        "!echo \"Q:${QUESTION}\"\n",
        "!bash tools/query.bash \"${QUESTION}\""
      ]
    }
  ],
  "metadata": {
    "colab": {
      "provenance": []
    },
    "kernelspec": {
      "display_name": "Python 3",
      "name": "python3"
    },
    "language_info": {
      "name": "python"
    }
  },
  "nbformat": 4,
  "nbformat_minor": 0
}
